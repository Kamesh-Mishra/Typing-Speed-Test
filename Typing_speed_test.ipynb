{
 "cells": [
  {
   "cell_type": "code",
   "execution_count": 1,
   "id": "886fa2c0",
   "metadata": {},
   "outputs": [],
   "source": [
    "import time\n",
    "string = \"\\nPython is an interpreted, high-level programming language\"\n",
    "word_count = len(string.split())\n",
    "sepration = '*'*65"
   ]
  },
  {
   "cell_type": "code",
   "execution_count": 2,
   "id": "6818c868",
   "metadata": {},
   "outputs": [],
   "source": [
    "def createbox():\n",
    "    print(sepration)\n",
    "    print('\\nEnter the below phrase as fast as possible and with accuracy')\n"
   ]
  },
  {
   "cell_type": "code",
   "execution_count": 3,
   "id": "8018e0cc",
   "metadata": {},
   "outputs": [
    {
     "name": "stdout",
     "output_type": "stream",
     "text": [
      "*****************************************************************\n",
      "\n",
      "Enter the below phrase as fast as possible and with accuracy\n",
      "\n",
      "Python is an interpreted, high-level programming language \n",
      "\n",
      "*****************************************************************\n",
      ">>Python is an Interpreted, high-level programming language\n",
      "*****************************************************************\n",
      "Total words \t : 7\n",
      "Time used \t : 24.88 seconds\n",
      "Your accuracy \t : 85.7 %\n",
      "Speed is \t : 16.88 words per minute\n",
      "*****************************************************************\n",
      "Do you want to retry!!\n",
      "Thank you, bye bye!!\n"
     ]
    }
   ],
   "source": [
    "while  True:\n",
    "    t0 = time.time()\n",
    "    createbox()\n",
    "    print(string,'\\n')\n",
    "    print(sepration)\n",
    "    inputText = str(input(\">>\"))\n",
    "    t1 = time.time()\n",
    "    lengthOfInput = len(inputText.split())\n",
    "    accuracy = len(set(inputText.split()) & set(string.split()))\n",
    "    accuracy = (accuracy/word_count)\n",
    "    timeTaken = (t1 - t0)\n",
    "    wordsperminute = (lengthOfInput/timeTaken)*60 \n",
    "    #Showing results now\n",
    "    print(sepration)\n",
    "    print('Total words \\t :' ,lengthOfInput)\n",
    "    print('Time used \\t :',round(timeTaken,2),'seconds')\n",
    "    print('Your accuracy \\t :',round(accuracy,3)*100,'%')\n",
    "    print('Speed is \\t :' , round(wordsperminute,2),'words per minute')\n",
    "    print(sepration)\n",
    "    print(\"Do you want to retry!!\",end='')\n",
    "    if input():\n",
    "        continue\n",
    "    else:\n",
    "        print('Thank you, bye bye!!')\n",
    "        break"
   ]
  },
  {
   "cell_type": "code",
   "execution_count": null,
   "id": "c2956ad5",
   "metadata": {},
   "outputs": [],
   "source": []
  }
 ],
 "metadata": {
  "kernelspec": {
   "display_name": "Python 3",
   "language": "python",
   "name": "python3"
  },
  "language_info": {
   "codemirror_mode": {
    "name": "ipython",
    "version": 3
   },
   "file_extension": ".py",
   "mimetype": "text/x-python",
   "name": "python",
   "nbconvert_exporter": "python",
   "pygments_lexer": "ipython3",
   "version": "3.8.8"
  }
 },
 "nbformat": 4,
 "nbformat_minor": 5
}
